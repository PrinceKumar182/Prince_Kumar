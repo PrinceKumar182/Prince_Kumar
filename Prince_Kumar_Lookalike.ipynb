{
 "cells": [
  {
   "cell_type": "code",
   "execution_count": 1,
   "metadata": {},
   "outputs": [],
   "source": [
    "import pandas as pd\n",
    "from sklearn.metrics.pairwise import cosine_similarity\n",
    "from sklearn.preprocessing import StandardScaler"
   ]
  },
  {
   "cell_type": "code",
   "execution_count": 2,
   "metadata": {},
   "outputs": [],
   "source": [
    "customers = pd.read_csv('Customers.csv')\n",
    "products = pd.read_csv('Products.csv')\n",
    "transactions = pd.read_csv('Transactions.csv')"
   ]
  },
  {
   "cell_type": "code",
   "execution_count": 3,
   "metadata": {},
   "outputs": [],
   "source": [
    "trans_extended = pd.merge(transactions, products, on='ProductID')\n",
    "trans_extended = pd.merge(trans_extended, customers, on='CustomerID')\n"
   ]
  },
  {
   "cell_type": "code",
   "execution_count": 4,
   "metadata": {},
   "outputs": [],
   "source": [
    "feature_matrix = trans_extended.pivot_table(index='CustomerID', columns='ProductID', values='Quantity', fill_value=0)"
   ]
  },
  {
   "cell_type": "code",
   "execution_count": 5,
   "metadata": {},
   "outputs": [],
   "source": [
    "scaler = StandardScaler()\n",
    "feature_matrix_scaled = scaler.fit_transform(feature_matrix)"
   ]
  },
  {
   "cell_type": "code",
   "execution_count": 6,
   "metadata": {},
   "outputs": [],
   "source": [
    "similarity = cosine_similarity(feature_matrix_scaled)\n",
    "similarity_df = pd.DataFrame(similarity, index=feature_matrix.index, columns=feature_matrix.index)\n",
    "def get_top_lookalikes(sim_df, customer_ids):\n",
    "    lookalike_dict = {}\n",
    "    for cust_id in customer_ids:\n",
    "        top_similar = sim_df[cust_id].sort_values(ascending=False)[1:4]  # skip the first one because it's the customer itself\n",
    "        lookalike_dict[cust_id] = list(zip(top_similar.index, top_similar.values))\n",
    "    return lookalike_dict"
   ]
  },
  {
   "cell_type": "code",
   "execution_count": 7,
   "metadata": {},
   "outputs": [],
   "source": [
    "first_20_customers = customers['CustomerID'].iloc[:20]\n",
    "top_lookalikes = get_top_lookalikes(similarity_df, first_20_customers)\n",
    "lookalike_df = pd.DataFrame.from_dict(top_lookalikes, orient='index')\n",
    "lookalike_df.to_csv('Prince_Kumar_Lookalike.csv', header=False)\n"
   ]
  }
 ],
 "metadata": {
  "kernelspec": {
   "display_name": "Python 3",
   "language": "python",
   "name": "python3"
  },
  "language_info": {
   "codemirror_mode": {
    "name": "ipython",
    "version": 3
   },
   "file_extension": ".py",
   "mimetype": "text/x-python",
   "name": "python",
   "nbconvert_exporter": "python",
   "pygments_lexer": "ipython3",
   "version": "3.12.6"
  }
 },
 "nbformat": 4,
 "nbformat_minor": 2
}
